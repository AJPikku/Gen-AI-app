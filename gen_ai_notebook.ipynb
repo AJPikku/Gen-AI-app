{
 "cells": [
  {
   "cell_type": "raw",
   "id": "4ad6239c-6e67-4e68-8117-a90443e834f9",
   "metadata": {},
   "source": [
    "TO run this file:\n",
    "C:\\Users\\Admin>cd \"C:\\GenAI app\"\n",
    "\n",
    "C:\\GenAI app>venv\\Scripts\\activate"
   ]
  },
  {
   "cell_type": "code",
   "execution_count": 1,
   "id": "08d850b9-76c6-4ffd-b795-458a3c57d1fd",
   "metadata": {},
   "outputs": [
    {
     "name": "stderr",
     "output_type": "stream",
     "text": [
      "C:\\GenAI app\\venv\\Lib\\site-packages\\tqdm\\auto.py:21: TqdmWarning: IProgress not found. Please update jupyter and ipywidgets. See https://ipywidgets.readthedocs.io/en/stable/user_install.html\n",
      "  from .autonotebook import tqdm as notebook_tqdm\n"
     ]
    }
   ],
   "source": [
    "from dotenv import load_dotenv\n",
    "import os\n",
    "import google.generativeai as genai\n",
    "\n"
   ]
  },
  {
   "cell_type": "code",
   "execution_count": 2,
   "id": "f04fe535-dcf7-412f-a471-68e9f1693470",
   "metadata": {},
   "outputs": [
    {
     "data": {
      "text/plain": [
       "True"
      ]
     },
     "execution_count": 2,
     "metadata": {},
     "output_type": "execute_result"
    }
   ],
   "source": [
    "load_dotenv()"
   ]
  },
  {
   "cell_type": "code",
   "execution_count": 3,
   "id": "ce66ba6a-3ed2-416f-9ec5-218d31957249",
   "metadata": {},
   "outputs": [],
   "source": [
    "# Configure Gemini API\n",
    "genai.configure(api_key=os.getenv(\"GEMINI_API_KEY\"))"
   ]
  },
  {
   "cell_type": "code",
   "execution_count": 4,
   "id": "0d8e3a45-5a90-4328-ac68-a44339887b57",
   "metadata": {},
   "outputs": [
    {
     "name": "stdout",
     "output_type": "stream",
     "text": [
      "Hello to you too! How can I help you today?\n",
      "\n"
     ]
    }
   ],
   "source": [
    "model = genai.GenerativeModel('gemini-2.0-flash')\n",
    "response = model.generate_content(\"Hello, world!\")\n",
    "print(response.text)"
   ]
  },
  {
   "cell_type": "code",
   "execution_count": 5,
   "id": "013952b8-e17c-4114-a470-4887d0a191ed",
   "metadata": {},
   "outputs": [
    {
     "name": "stdout",
     "output_type": "stream",
     "text": [
      "Here are 5 bullet points explaining the benefits of concise technical documentation:\n",
      "\n",
      "*   **Improved User Comprehension:** Conciseness makes information easier to understand and retain, leading to faster learning and more effective application of the documented technology or process.\n",
      "*   **Reduced Support Costs:** Clear and concise documentation anticipates user questions, minimizes ambiguity, and empowers users to self-solve problems, thereby lowering support ticket volume and associated costs.\n",
      "*   **Increased Efficiency:** Concise documentation reduces the time needed to find relevant information, enabling users to quickly accomplish tasks and minimizing wasted effort.\n",
      "*   **Enhanced Maintainability:** Shorter, more focused documentation is easier to update and maintain, ensuring accuracy and relevance over time while reducing the risk of errors and inconsistencies.\n",
      "*   **Better Accessibility & Readability:** Concise documentation is more accessible to a wider audience, including non-native speakers and users with disabilities, and improves overall readability, leading to a more positive user experience.\n",
      "\n"
     ]
    }
   ],
   "source": [
    "response = model.generate_content(\"In 5 bullet points, explain the benefits of concise technical documentation.\")\n",
    "print(response.text)"
   ]
  },
  {
   "cell_type": "code",
   "execution_count": 6,
   "id": "2423e0b8-f521-4466-995e-3bd0e7bbaa7f",
   "metadata": {},
   "outputs": [
    {
     "name": "stdout",
     "output_type": "stream",
     "text": [
      "Hello! How can I assist you today? I am ready to answer your technical questions.\n",
      "\n"
     ]
    }
   ],
   "source": [
    "system_instruction = \"You are a concise, technical assistant. Respond in 3 sentences or less.\"\n",
    "model = genai.GenerativeModel('gemini-2.0-flash', system_instruction=system_instruction)\n",
    "response = model.generate_content(\"Hello, world!\")\n",
    "print(response.text)"
   ]
  },
  {
   "cell_type": "code",
   "execution_count": 7,
   "id": "547374fc-0391-4957-b0e8-cd3131e552a3",
   "metadata": {},
   "outputs": [
    {
     "name": "stdout",
     "output_type": "stream",
     "text": [
      "streamlit \n",
      "google-generativeai \n",
      "pillow \n",
      "python-dotenv \n"
     ]
    }
   ],
   "source": [
    "!type requirements.txt"
   ]
  },
  {
   "cell_type": "code",
   "execution_count": 8,
   "id": "ba9c1e45-41af-4357-a22c-e42d30cc8b7d",
   "metadata": {},
   "outputs": [],
   "source": [
    "!del requirements.txt"
   ]
  },
  {
   "cell_type": "code",
   "execution_count": 9,
   "id": "a1fd0e48-54e5-4d69-a6a9-cdf115e88a59",
   "metadata": {},
   "outputs": [],
   "source": [
    "!echo streamlit >> requirements.txt\n",
    "!echo google-generativeai >> requirements.txt\n",
    "!echo pillow >> requirements.txt\n",
    "!echo python-dotenv >> requirements.txt"
   ]
  },
  {
   "cell_type": "code",
   "execution_count": 10,
   "id": "04577ed3-e5a3-4409-8a8d-0749556e6dbc",
   "metadata": {},
   "outputs": [
    {
     "name": "stdout",
     "output_type": "stream",
     "text": [
      "streamlit \n",
      "google-generativeai \n",
      "pillow \n",
      "python-dotenv \n"
     ]
    }
   ],
   "source": [
    "!type requirements.txt"
   ]
  },
  {
   "cell_type": "code",
   "execution_count": 11,
   "id": "7f75871f-ea7a-4acc-b6e8-d36f4e54e401",
   "metadata": {},
   "outputs": [
    {
     "name": "stderr",
     "output_type": "stream",
     "text": [
      "2025-09-20 13:27:56.309 WARNING streamlit.runtime.scriptrunner_utils.script_run_context: Thread 'MainThread': missing ScriptRunContext! This warning can be ignored when running in bare mode.\n"
     ]
    }
   ],
   "source": [
    "import streamlit as st\n",
    "st.set_page_config( page_title=\"Streamlit Widgets Essential\", page_icon=\"🧩\", layout=\"wide\")\n"
   ]
  },
  {
   "cell_type": "code",
   "execution_count": 12,
   "id": "aacb456d-def7-4408-9307-76408f53675a",
   "metadata": {},
   "outputs": [
    {
     "name": "stderr",
     "output_type": "stream",
     "text": [
      "2025-09-20 13:30:31.972 WARNING streamlit.runtime.scriptrunner_utils.script_run_context: Thread 'MainThread': missing ScriptRunContext! This warning can be ignored when running in bare mode.\n",
      "2025-09-20 13:30:31.975 WARNING streamlit.runtime.scriptrunner_utils.script_run_context: Thread 'MainThread': missing ScriptRunContext! This warning can be ignored when running in bare mode.\n",
      "2025-09-20 13:30:32.634 \n",
      "  \u001b[33m\u001b[1mWarning:\u001b[0m to view this Streamlit app on a browser, run it with the following\n",
      "  command:\n",
      "\n",
      "    streamlit run C:\\GenAI app\\venv\\Lib\\site-packages\\ipykernel_launcher.py [ARGUMENTS]\n",
      "2025-09-20 13:30:32.634 Thread 'MainThread': missing ScriptRunContext! This warning can be ignored when running in bare mode.\n",
      "2025-09-20 13:30:32.635 Thread 'MainThread': missing ScriptRunContext! This warning can be ignored when running in bare mode.\n",
      "2025-09-20 13:30:32.635 Thread 'MainThread': missing ScriptRunContext! This warning can be ignored when running in bare mode.\n",
      "2025-09-20 13:30:32.637 Thread 'MainThread': missing ScriptRunContext! This warning can be ignored when running in bare mode.\n",
      "2025-09-20 13:30:32.639 Thread 'MainThread': missing ScriptRunContext! This warning can be ignored when running in bare mode.\n",
      "2025-09-20 13:30:32.640 Thread 'MainThread': missing ScriptRunContext! This warning can be ignored when running in bare mode.\n",
      "2025-09-20 13:30:32.640 Session state does not function when running a script without `streamlit run`\n",
      "2025-09-20 13:30:32.641 Thread 'MainThread': missing ScriptRunContext! This warning can be ignored when running in bare mode.\n",
      "2025-09-20 13:30:32.642 Thread 'MainThread': missing ScriptRunContext! This warning can be ignored when running in bare mode.\n",
      "2025-09-20 13:30:32.643 Thread 'MainThread': missing ScriptRunContext! This warning can be ignored when running in bare mode.\n",
      "2025-09-20 13:30:32.644 Thread 'MainThread': missing ScriptRunContext! This warning can be ignored when running in bare mode.\n",
      "2025-09-20 13:30:32.646 Thread 'MainThread': missing ScriptRunContext! This warning can be ignored when running in bare mode.\n",
      "2025-09-20 13:30:32.648 Thread 'MainThread': missing ScriptRunContext! This warning can be ignored when running in bare mode.\n",
      "2025-09-20 13:30:32.649 Thread 'MainThread': missing ScriptRunContext! This warning can be ignored when running in bare mode.\n",
      "2025-09-20 13:30:32.652 Thread 'MainThread': missing ScriptRunContext! This warning can be ignored when running in bare mode.\n",
      "2025-09-20 13:30:32.658 Thread 'MainThread': missing ScriptRunContext! This warning can be ignored when running in bare mode.\n",
      "2025-09-20 13:30:32.659 Thread 'MainThread': missing ScriptRunContext! This warning can be ignored when running in bare mode.\n",
      "2025-09-20 13:30:32.661 Thread 'MainThread': missing ScriptRunContext! This warning can be ignored when running in bare mode.\n",
      "2025-09-20 13:30:32.662 Thread 'MainThread': missing ScriptRunContext! This warning can be ignored when running in bare mode.\n",
      "2025-09-20 13:30:32.664 Thread 'MainThread': missing ScriptRunContext! This warning can be ignored when running in bare mode.\n",
      "2025-09-20 13:30:32.669 Thread 'MainThread': missing ScriptRunContext! This warning can be ignored when running in bare mode.\n",
      "2025-09-20 13:30:32.670 Thread 'MainThread': missing ScriptRunContext! This warning can be ignored when running in bare mode.\n",
      "2025-09-20 13:30:32.672 Thread 'MainThread': missing ScriptRunContext! This warning can be ignored when running in bare mode.\n",
      "2025-09-20 13:30:32.674 Thread 'MainThread': missing ScriptRunContext! This warning can be ignored when running in bare mode.\n",
      "2025-09-20 13:30:32.674 Thread 'MainThread': missing ScriptRunContext! This warning can be ignored when running in bare mode.\n",
      "2025-09-20 13:30:32.676 Thread 'MainThread': missing ScriptRunContext! This warning can be ignored when running in bare mode.\n",
      "2025-09-20 13:30:32.678 Thread 'MainThread': missing ScriptRunContext! This warning can be ignored when running in bare mode.\n",
      "2025-09-20 13:30:32.679 Thread 'MainThread': missing ScriptRunContext! This warning can be ignored when running in bare mode.\n",
      "2025-09-20 13:30:32.680 Thread 'MainThread': missing ScriptRunContext! This warning can be ignored when running in bare mode.\n",
      "2025-09-20 13:30:32.682 Thread 'MainThread': missing ScriptRunContext! This warning can be ignored when running in bare mode.\n",
      "2025-09-20 13:30:32.683 Thread 'MainThread': missing ScriptRunContext! This warning can be ignored when running in bare mode.\n",
      "2025-09-20 13:30:32.686 Thread 'MainThread': missing ScriptRunContext! This warning can be ignored when running in bare mode.\n",
      "2025-09-20 13:30:32.688 Thread 'MainThread': missing ScriptRunContext! This warning can be ignored when running in bare mode.\n",
      "2025-09-20 13:30:32.691 Thread 'MainThread': missing ScriptRunContext! This warning can be ignored when running in bare mode.\n",
      "2025-09-20 13:30:32.698 Thread 'MainThread': missing ScriptRunContext! This warning can be ignored when running in bare mode.\n",
      "2025-09-20 13:30:32.702 Thread 'MainThread': missing ScriptRunContext! This warning can be ignored when running in bare mode.\n",
      "2025-09-20 13:30:32.704 Thread 'MainThread': missing ScriptRunContext! This warning can be ignored when running in bare mode.\n",
      "2025-09-20 13:30:32.705 Thread 'MainThread': missing ScriptRunContext! This warning can be ignored when running in bare mode.\n",
      "2025-09-20 13:30:32.706 Thread 'MainThread': missing ScriptRunContext! This warning can be ignored when running in bare mode.\n",
      "2025-09-20 13:30:32.707 Thread 'MainThread': missing ScriptRunContext! This warning can be ignored when running in bare mode.\n",
      "2025-09-20 13:30:32.708 Thread 'MainThread': missing ScriptRunContext! This warning can be ignored when running in bare mode.\n",
      "2025-09-20 13:30:32.709 Thread 'MainThread': missing ScriptRunContext! This warning can be ignored when running in bare mode.\n",
      "2025-09-20 13:30:32.711 Thread 'MainThread': missing ScriptRunContext! This warning can be ignored when running in bare mode.\n",
      "2025-09-20 13:30:32.712 Thread 'MainThread': missing ScriptRunContext! This warning can be ignored when running in bare mode.\n",
      "2025-09-20 13:30:32.714 Thread 'MainThread': missing ScriptRunContext! This warning can be ignored when running in bare mode.\n"
     ]
    }
   ],
   "source": [
    "import streamlit as st\n",
    "import google.generativeai as genai\n",
    "from dotenv import load_dotenv\n",
    "import os\n",
    "\n",
    "# Load environment variables\n",
    "load_dotenv()\n",
    "genai.configure(api_key=os.getenv(\"GEMINI_API_KEY\"))\n",
    "\n",
    "# Page configuration\n",
    "st.set_page_config(page_title=\"Gen AI App\", page_icon=\"🤖\", layout=\"wide\")\n",
    "\n",
    "# Sidebar for settings\n",
    "with st.sidebar:\n",
    "    st.title(\"AI Settings\")\n",
    "    model_choice = st.selectbox(\"Model\", [\"gemini-2.0-flash\", \"gemini-pro\"])\n",
    "    temperature = st.slider(\"Creativity\", 0.0, 1.0, 0.7)\n",
    "\n",
    "# Main interface\n",
    "st.title(\"Generative AI App\")\n",
    "col1, col2 = st.columns([1, 2])\n",
    "with col1:\n",
    "    prompt = st.text_area(\"Enter your AI prompt\", height=150)\n",
    "    if st.button(\"Generate\"):\n",
    "        if prompt:\n",
    "            with st.spinner(\"Generating...\"):\n",
    "                model = genai.GenerativeModel(model_choice)\n",
    "                try:\n",
    "                    response = model.generate_content(prompt, generation_config={\"temperature\": temperature})\n",
    "                    st.session_state[\"last_response\"] = response.text\n",
    "                except Exception as e:\n",
    "                    st.error(f\"Error: {str(e)}\")\n",
    "with col2:\n",
    "    st.write(\"**AI Response:**\")\n",
    "    if \"last_response\" in st.session_state:\n",
    "        st.markdown(st.session_state[\"last_response\"])\n",
    "    if st.button(\"Regenerate\"):\n",
    "        if prompt:\n",
    "            with st.spinner(\"Regenerating...\"):\n",
    "                response = model.generate_content(prompt)\n",
    "                st.session_state[\"last_response\"] = response.text"
   ]
  },
  {
   "cell_type": "markdown",
   "id": "5f591d6c-0045-4bed-b815-72961e45a8b0",
   "metadata": {},
   "source": [
    "Streamlit Widgets (Components)"
   ]
  },
  {
   "cell_type": "raw",
   "id": "31633012-26dc-41dd-a4b2-9de0eafd6f77",
   "metadata": {},
   "source": [
    "st.title(\"Your Application Title\")\n",
    "st.subheader(\"Section Subheading\")\n",
    "st.caption(\"A small descriptive text\")\n",
    "# Sidebar\n",
    "st.sidebar.title(\"Sidebar Title\")\n",
    "st.sidebar.text(\"Some text in the sidebar\")\n",
    "# Inputs\n",
    "name = st.text_input(\"Enter your name\")\n",
    "number = st.number_input(\"Enter a number\")\n",
    "liked = st.checkbox(\"I like Streamlit\", value=True)\n",
    "mood = st.selectbox(\"Pick a mood\", [\"Happy\", \"Sad\", \"Neutral\"])\n",
    "confidence = st.slider(\"Confidence Level\", 0.0, 1.0, 0.5)\n",
    "# File upload\n",
    "file = st.file_uploader(\"Upload an image\", type=[\"png\", \"jpg\", \"jpeg\"])\n",
    "# Expander & Markdown\n",
    "with st.expander(\"Show Details\"): \n",
    "    st.markdown(\"## Markdown Text\")"
   ]
  },
  {
   "cell_type": "code",
   "execution_count": null,
   "id": "aae0b792-7c5b-4f8d-8c18-c449a7a165ae",
   "metadata": {},
   "outputs": [],
   "source": []
  }
 ],
 "metadata": {
  "kernelspec": {
   "display_name": "Python 3 (ipykernel)",
   "language": "python",
   "name": "python3"
  },
  "language_info": {
   "codemirror_mode": {
    "name": "ipython",
    "version": 3
   },
   "file_extension": ".py",
   "mimetype": "text/x-python",
   "name": "python",
   "nbconvert_exporter": "python",
   "pygments_lexer": "ipython3",
   "version": "3.13.3"
  }
 },
 "nbformat": 4,
 "nbformat_minor": 5
}
